{
 "cells": [
  {
   "cell_type": "code",
   "execution_count": null,
   "id": "184a84ca",
   "metadata": {},
   "outputs": [],
   "source": []
  },
  {
   "cell_type": "code",
   "execution_count": 1,
   "id": "54484771",
   "metadata": {},
   "outputs": [
    {
     "ename": "ModuleNotFoundError",
     "evalue": "No module named 'streamlit'",
     "output_type": "error",
     "traceback": [
      "\u001b[1;31m---------------------------------------------------------------------------\u001b[0m",
      "\u001b[1;31mModuleNotFoundError\u001b[0m                       Traceback (most recent call last)",
      "Cell \u001b[1;32mIn[1], line 1\u001b[0m\n\u001b[1;32m----> 1\u001b[0m \u001b[38;5;28;01mimport\u001b[39;00m \u001b[38;5;21;01mstreamlit\u001b[39;00m \u001b[38;5;28;01mas\u001b[39;00m \u001b[38;5;21;01mst\u001b[39;00m\n\u001b[0;32m      3\u001b[0m \u001b[38;5;66;03m# Set page title and icon\u001b[39;00m\n\u001b[0;32m      4\u001b[0m st\u001b[38;5;241m.\u001b[39mset_page_config(page_title\u001b[38;5;241m=\u001b[39m\u001b[38;5;124m\"\u001b[39m\u001b[38;5;124mMy Portfolio\u001b[39m\u001b[38;5;124m\"\u001b[39m, page_icon\u001b[38;5;241m=\u001b[39m\u001b[38;5;124m\"\u001b[39m\u001b[38;5;124m🌟\u001b[39m\u001b[38;5;124m\"\u001b[39m)\n",
      "\u001b[1;31mModuleNotFoundError\u001b[0m: No module named 'streamlit'"
     ]
    }
   ],
   "source": [
    "import streamlit as st\n",
    "\n",
    "# Set page title and icon\n",
    "st.set_page_config(page_title=\"My Portfolio\", page_icon=\"🌟\")\n",
    "\n",
    "# Add a title\n",
    "st.title(\"My Portfolio\")\n",
    "\n",
    "# Add a header\n",
    "st.header(\"About Me\")\n",
    "st.write(\"\"\"\n",
    "Hi, I am Lebogang 🌟  \n",
    "**Data Scientist | Aspiring AI and ML Engineer**  \n",
    "\n",
    "I am a passionate and detail-oriented Mathematics and Statistics graduate with an Honours degree in Statistics. My academic foundation, combined with my technical expertise in data science, equips me to transform complex data into actionable insights that drive decision-making and innovation.\n",
    "\n",
    "I possess strong technical skills in **SQL, Python, Power BI, and Machine Learning**, which I have applied to solve real-world problems and deliver data-driven solutions. My experience spans data analysis, predictive modeling, and visualization, enabling me to communicate insights effectively to both technical and non-technical stakeholders.\n",
    "\n",
    "Beyond technical expertise, I bring strong interpersonal skills to the table. I have a proven track record in team leadership, project management, and communication, which allow me to collaborate effectively with cross-functional teams and lead projects to successful completion. I thrive in dynamic environments where I can leverage both my analytical mindset and my ability to connect with people.\n",
    "\n",
    "I am eager to continue growing in the field of data science and statistics, contributing to impactful projects, and making a meaningful difference through data.\n",
    "\"\"\")\n",
    "\n",
    "# Add an image\n",
    "try:\n",
    "    st.image(r\"C:\\Users\\lebog\\Documents\\Data Science portfolio\\Data-Science-Portfolio\\my image.jpg\", caption=\"That's me!\", width=200)\n",
    "except FileNotFoundError:\n",
    "    st.error(\"Image not found! Please check the file path.\")\n",
    "\n",
    "# Add a section for skills\n",
    "st.header(\"Skills and Expertise\")\n",
    "st.write(\"\"\"\n",
    "- **Programming Languages**: Python, R, SQL  \n",
    "- **Data Analysis**: Pandas, NumPy, Power BI  \n",
    "- **Machine Learning**: Scikit-learn, TensorFlow, NLP, Regression, Classification  \n",
    "- **Web Development**: Streamlit  \n",
    "- **Soft Skills**: Team Leadership, Project Management, Communication, Presentation  \n",
    "\"\"\")\n",
    "\n",
    "# Add a section for projects\n",
    "st.header(\"Projects\")\n",
    "st.write(\"\"\"\n",
    "### **Project 1: Credit Risk Modeling**  \n",
    "- **Description**: Built a Credit Risk Model to predict the likelihood of a borrower defaulting on a loan.  \n",
    "- **Tech Stack**: Python (Pandas, NumPy, Scikit-learn, Matplotlib, Seaborn), Machine Learning (Logistic Regression, Decision Trees, Random Forest)  \n",
    "- **Link**: [GitHub](https://github.com/LeboSwaratlhe/Credit-risk-modeling-.git)  \n",
    "\n",
    "### **Project 2: News Article Classification**  \n",
    "- **Description**: Built a machine learning-based news classification system to categorize articles for a news outlet.  \n",
    "- **Tech Stack**: Natural Language Processing (NLP), Classification Algorithms (SVM, Naive Bayes), Python (NLTK, Scikit-learn), TensorFlow, MLFlow  \n",
    "- **Link**: [GitHub](https://github.com/LeboSwaratlhe/Group_5_Classification_Project.git)  \n",
    "\n",
    "### **Project 3: Predicting CO2 Emissions from the Agri-food Sector**  \n",
    "- **Description**: Built predictive models to estimate CO₂ emissions from agricultural activities and pinpoint major emission sources.  \n",
    "- **Tech Stack**: Regression Analysis, Feature Engineering, Python (Scikit-learn, Pandas)  \n",
    "- **Link**: [GitHub](https://github.com/LeboSwaratlhe/RegressionExplorers24Team6.git)  \n",
    "\n",
    "### **Project 4: Anime Recommender System**  \n",
    "- **Description**: Built a collaborative and content-based recommender system for anime titles, predicting user ratings based on historical preferences.  \n",
    "- **Tech Stack**: Collaborative Filtering, Content-Based Filtering, Python (Scikit-learn, Pandas, Streamlit)  \n",
    "- **Link**: [GitHub](https://github.com/LeboSwaratlhe/Anime-Recommender-System-Project-2025.git)  \n",
    "\"\"\")\n",
    "\n",
    "# Add a section for contact information\n",
    "st.header(\"Contact Me\")\n",
    "st.write(\"\"\"\n",
    "Feel free to reach out to me!  \n",
    "- **Email**: [lebogangswaratlhe@gmail.com](mailto:lebogangswaratlhe@gmail.com)  \n",
    "- **LinkedIn**: [Lebogang Swaratlhe](https://www.linkedin.com/in/your-linkedin-profile)  \n",
    "- **GitHub**: [Lebo Swaratlhe](https://github.com/LeboSwaratlhe)  \n",
    "\"\"\")"
   ]
  },
  {
   "cell_type": "code",
   "execution_count": null,
   "id": "2776098d",
   "metadata": {},
   "outputs": [],
   "source": []
  },
  {
   "cell_type": "code",
   "execution_count": null,
   "id": "f2bb6a4b",
   "metadata": {},
   "outputs": [],
   "source": []
  }
 ],
 "metadata": {
  "kernelspec": {
   "display_name": "Python 3 (ipykernel)",
   "language": "python",
   "name": "python3"
  },
  "language_info": {
   "codemirror_mode": {
    "name": "ipython",
    "version": 3
   },
   "file_extension": ".py",
   "mimetype": "text/x-python",
   "name": "python",
   "nbconvert_exporter": "python",
   "pygments_lexer": "ipython3",
   "version": "3.11.5"
  }
 },
 "nbformat": 4,
 "nbformat_minor": 5
}
